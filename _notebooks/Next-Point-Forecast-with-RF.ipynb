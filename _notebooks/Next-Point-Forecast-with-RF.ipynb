{
 "cells": [
  {
   "cell_type": "code",
   "execution_count": 1,
   "metadata": {},
   "outputs": [],
   "source": [
    "import numpy as np\n",
    "import pandas as pd\n",
    "from scipy import signal\n",
    "from sklearn.ensemble import RandomForestRegressor\n",
    "from matplotlib import pyplot as plt\n",
    "%matplotlib inline"
   ]
  },
  {
   "cell_type": "code",
   "execution_count": 3,
   "metadata": {},
   "outputs": [],
   "source": [
    "t = np.arange(24*3600)\n",
    "small_sin = np.sin(2*np.pi*t/30)     # 30 sec\n",
    "med_cos = 3*np.cos(2*np.pi*t/300)    # 5 min\n",
    "big_sin = 11*np.sin(2*np.pi*t/1200)  # 20 min\n",
    "long_saw = 20*signal.sawtooth(2*np.pi*t/1800)  # 30 min\n",
    "err = 0.75*np.random.randn(len(t))\n",
    "sig = small_sin + med_cos + big_sin + long_saw + err"
   ]
  },
  {
   "cell_type": "code",
   "execution_count": 4,
   "metadata": {},
   "outputs": [
    {
     "data": {
      "text/plain": [
       "[<matplotlib.lines.Line2D at 0x1c2388e160>]"
      ]
     },
     "execution_count": 4,
     "metadata": {},
     "output_type": "execute_result"
    },
    {
     "data": {
      "image/png": "[encoded data removed]",
      "text/plain": [
       "<Figure size 432x288 with 1 Axes>"
      ]
     },
     "metadata": {
      "needs_background": "light"
     },
     "output_type": "display_data"
    }
   ],
   "source": [
    "plt.plot(t[:10000],sig[:10000])"
   ]
  },
  {
   "cell_type": "code",
   "execution_count": 5,
   "metadata": {},
   "outputs": [],
   "source": [
    "from numpy.lib.stride_tricks import as_strided\n",
    "def make_views(\n",
    "  arr,\n",
    "  win_size,\n",
    "  step_size,\n",
    "  writeable = False,\n",
    "):\n",
    "    \"\"\"\n",
    "    arr: any 2D array whose columns are distinct variables and \n",
    "    rows are data records at some timestamp t\n",
    "    win_size: size of data window (given in data points along record/time axis)\n",
    "    step_size: size of window step (given in data point along record/time axis)\n",
    "    writable: if True, elements can be modified in new data structure, which will affect\n",
    "    original array (defaults to False)\n",
    "  \n",
    "    Note that step_size is related to window overlap (overlap = win_size - step_size), in \n",
    "    case you think in overlaps.\n",
    "  \n",
    "    This function can work with C-like and F-like arrays, and with DataFrames.  Yay.\n",
    "    \"\"\"\n",
    "  \n",
    "    # If DataFrame, use only underlying NumPy array\n",
    "    if type(arr) == type(pd.DataFrame()):\n",
    "        arr = arr.values\n",
    "  \n",
    "    # Compute Shape Parameter for as_strided\n",
    "    n_records = arr.shape[0]\n",
    "    n_columns = arr.shape[1]\n",
    "    remainder = (n_records - win_size) % step_size \n",
    "    num_windows = 1 + int((n_records - win_size - remainder) / step_size)\n",
    "    shape = (num_windows, win_size, n_columns)\n",
    "  \n",
    "    # Compute Strides Parameter for as_strided\n",
    "    next_win = step_size * arr.strides[0]\n",
    "    next_row, next_col = arr.strides\n",
    "    strides = (next_win, next_row, next_col)\n",
    "\n",
    "    new_view_structure = as_strided(\n",
    "      arr,\n",
    "      shape = shape,\n",
    "      strides = strides,\n",
    "      writeable = writeable,\n",
    "    )\n",
    "    return new_view_structure"
   ]
  },
  {
   "cell_type": "code",
   "execution_count": 6,
   "metadata": {},
   "outputs": [],
   "source": [
    "# We will create 1801 windows, where first 1800 points are X and last point is y\n",
    "data = make_views(sig.reshape(-1,1),1801,1)"
   ]
  },
  {
   "cell_type": "code",
   "execution_count": 7,
   "metadata": {},
   "outputs": [
    {
     "name": "stdout",
     "output_type": "stream",
     "text": [
      "Y shape: (84600,) \n",
      "X shape: (84600, 1800)\n"
     ]
    }
   ],
   "source": [
    "x = data[:,:1800].squeeze()\n",
    "y = data[:,1800].ravel()\n",
    "print('Y shape:',y.shape,'\\nX shape:',x.shape)"
   ]
  },
  {
   "cell_type": "markdown",
   "metadata": {},
   "source": [
    "I ran a fairly default RF......and it took over an hour before I hit quit.  I saw on some blogs\n",
    "that people start with very low mtry, e.g., 1 or 2, and build up from there if necessary.  \n",
    "\n",
    "I also found a package that will estimate your sklearn runtime:\n",
    "    https://stackoverflow.com/questions/22443041/predicting-how-long-an-scikit-learn-classification-will-take-to-run"
   ]
  },
  {
   "cell_type": "code",
   "execution_count": 11,
   "metadata": {},
   "outputs": [
    {
     "name": "stdout",
     "output_type": "stream",
     "text": [
      "Collecting scitime\n",
      "\u001b[?25l  Downloading https://files.pythonhosted.org/packages/72/89/70f693c181ce1bc607765dde514202e26bfe165a54fff2c9a2ac85f41814/scitime-0.0.2-py3-none-any.whl (45.9MB)\n",
      "\u001b[K     |████████████████████████████████| 45.9MB 679kB/s eta 0:00:011\n",
      "\u001b[?25hCollecting joblib>=0.12.5 (from scitime)\n",
      "\u001b[?25l  Downloading https://files.pythonhosted.org/packages/cd/c1/50a758e8247561e58cb87305b1e90b171b8c767b15b12a1734001f41d356/joblib-0.13.2-py2.py3-none-any.whl (278kB)\n",
      "\u001b[K     |████████████████████████████████| 286kB 2.8MB/s eta 0:00:01\n",
      "\u001b[?25hCollecting psutil>=5.4.7 (from scitime)\n",
      "\u001b[?25l  Downloading https://files.pythonhosted.org/packages/1c/ca/5b8c1fe032a458c2c4bcbe509d1401dca9dda35c7fc46b36bb81c2834740/psutil-5.6.3.tar.gz (435kB)\n",
      "\u001b[K     |████████████████████████████████| 440kB 18.7MB/s eta 0:00:01\n",
      "\u001b[?25hRequirement already satisfied: pandas>=0.20.3 in /Users/kevinurban/miniconda3/lib/python3.7/site-packages (from scitime) (0.24.1)\n",
      "Requirement already satisfied: scikit-learn>=0.19.1 in /Users/kevinurban/miniconda3/lib/python3.7/site-packages (from scitime) (0.20.1)\n",
      "Requirement already satisfied: pytz>=2011k in /Users/kevinurban/miniconda3/lib/python3.7/site-packages (from pandas>=0.20.3->scitime) (2018.9)\n",
      "Requirement already satisfied: numpy>=1.12.0 in /Users/kevinurban/miniconda3/lib/python3.7/site-packages (from pandas>=0.20.3->scitime) (1.15.4)\n",
      "Requirement already satisfied: python-dateutil>=2.5.0 in /Users/kevinurban/miniconda3/lib/python3.7/site-packages (from pandas>=0.20.3->scitime) (2.8.0)\n",
      "Requirement already satisfied: scipy>=0.13.3 in /Users/kevinurban/miniconda3/lib/python3.7/site-packages (from scikit-learn>=0.19.1->scitime) (1.1.0)\n",
      "Requirement already satisfied: six>=1.5 in /Users/kevinurban/miniconda3/lib/python3.7/site-packages (from python-dateutil>=2.5.0->pandas>=0.20.3->scitime) (1.12.0)\n",
      "Building wheels for collected packages: psutil\n",
      "  Building wheel for psutil (setup.py) ... \u001b[?25ldone\n",
      "\u001b[?25h  Created wheel for psutil: filename=psutil-5.6.3-cp37-cp37m-macosx_10_7_x86_64.whl size=227138 sha256=4878fd9016d5351b29386a7cbc01339eb9017a3306e2249017c8a7c85b6c8d2d\n",
      "  Stored in directory: /Users/kevinurban/Library/Caches/pip/wheels/90/7e/74/bb640d77775e6b6a78bcc3120f9fea4d2a28b2706de1cff37d\n",
      "Successfully built psutil\n",
      "Installing collected packages: joblib, psutil, scitime\n",
      "Successfully installed joblib-0.13.2 psutil-5.6.3 scitime-0.0.2\n",
      "\u001b[33mWARNING: You are using pip version 19.2.2, however version 19.2.3 is available.\n",
      "You should consider upgrading via the 'pip install --upgrade pip' command.\u001b[0m\n"
     ]
    }
   ],
   "source": [
    "!pip install scitime"
   ]
  },
  {
   "cell_type": "code",
   "execution_count": 12,
   "metadata": {},
   "outputs": [],
   "source": [
    "from scitime import Estimator"
   ]
  },
  {
   "cell_type": "code",
   "execution_count": 25,
   "metadata": {},
   "outputs": [],
   "source": [
    "rf = RandomForestRegressor(n_estimators=100, verbose=3, n_jobs=-1, max_features=2)"
   ]
  },
  {
   "cell_type": "code",
   "execution_count": 26,
   "metadata": {},
   "outputs": [
    {
     "name": "stderr",
     "output_type": "stream",
     "text": [
      "scitime.estimate.Estimator:DEBUG:The model would fit. Moving on\n",
      "scitime.estimate.Estimator:DEBUG:Fetching estimator: RF_RandomForestRegressor_estimator.pkl\n",
      "/Users/kevinurban/miniconda3/lib/python3.7/site-packages/sklearn/base.py:251: UserWarning: Trying to unpickle estimator DecisionTreeRegressor from version 0.19.1 when using version 0.20.1. This might lead to breaking code or invalid results. Use at your own risk.\n",
      "  UserWarning)\n",
      "/Users/kevinurban/miniconda3/lib/python3.7/site-packages/sklearn/base.py:251: UserWarning: Trying to unpickle estimator RandomForestRegressor from version 0.19.1 when using version 0.20.1. This might lead to breaking code or invalid results. Use at your own risk.\n",
      "  UserWarning)\n",
      "scitime.estimate.Estimator:INFO:Training your model for these params: {'total_memory': [17179869184], 'available_memory': [5490036736], 'num_cpu': [8], 'num_rows': [84600], 'num_features': [1800], 'n_estimators': [100], 'max_depth': [None], 'min_samples_split': [2], 'min_samples_leaf': [1], 'min_weight_fraction_leaf': [0.0], 'max_features': [2], 'criterion': ['mse'], 'max_leaf_nodes': [None], 'min_impurity_decrease': [0.0], 'min_impurity_split': [None], 'bootstrap': [True], 'oob_score': [False], 'n_jobs': [8]}\n",
      "scitime.estimate.Estimator:INFO:Transforming dataset for semi dummy features\n",
      "scitime.estimate.Estimator:WARNING:Parameters ['warm_start', 'verbose', 'random_state'] will not be accounted for\n",
      "/Users/kevinurban/miniconda3/lib/python3.7/site-packages/scitime/estimate.py:283: FutureWarning: Method .as_matrix will be removed in a future version. Use .values instead.\n",
      "  .dropna(axis=0, how='any')\n",
      "scitime.estimate.Estimator:INFO:Training your RandomForestRegressor model should take ~ 1 minute\n",
      "                and 43 seconds\n",
      "scitime.estimate.Estimator:INFO:The 95.0% prediction interval is [0 seconds, 10 minutes\n",
      "                and 52 seconds]\n"
     ]
    }
   ],
   "source": [
    "estimator = Estimator() \n",
    "estimation, lower_bound, upper_bound = estimator.time(rf, x, y)"
   ]
  },
  {
   "cell_type": "code",
   "execution_count": 27,
   "metadata": {},
   "outputs": [
    {
     "data": {
      "text/plain": [
       "103.44621596336364"
      ]
     },
     "execution_count": 27,
     "metadata": {},
     "output_type": "execute_result"
    }
   ],
   "source": [
    "estimation"
   ]
  },
  {
   "cell_type": "code",
   "execution_count": 28,
   "metadata": {},
   "outputs": [
    {
     "data": {
      "text/plain": [
       "0.11307097077369689"
      ]
     },
     "execution_count": 28,
     "metadata": {},
     "output_type": "execute_result"
    }
   ],
   "source": [
    "lower_bound"
   ]
  },
  {
   "cell_type": "code",
   "execution_count": 29,
   "metadata": {},
   "outputs": [
    {
     "data": {
      "text/plain": [
       "652.3217680692675"
      ]
     },
     "execution_count": 29,
     "metadata": {},
     "output_type": "execute_result"
    }
   ],
   "source": [
    "upper_bound"
   ]
  },
  {
   "cell_type": "code",
   "execution_count": 30,
   "metadata": {},
   "outputs": [
    {
     "data": {
      "text/plain": [
       "RandomForestRegressor(bootstrap=True, criterion='mse', max_depth=None,\n",
       "           max_features=2, max_leaf_nodes=None, min_impurity_decrease=0.0,\n",
       "           min_impurity_split=None, min_samples_leaf=1,\n",
       "           min_samples_split=2, min_weight_fraction_leaf=0.0,\n",
       "           n_estimators=100, n_jobs=-1, oob_score=False, random_state=None,\n",
       "           verbose=0, warm_start=False)"
      ]
     },
     "execution_count": 30,
     "metadata": {},
     "output_type": "execute_result"
    }
   ],
   "source": [
    "rf.fit(x,y)"
   ]
  },
  {
   "cell_type": "code",
   "execution_count": 46,
   "metadata": {},
   "outputs": [],
   "source": [
    "p = rf.predict(x)"
   ]
  },
  {
   "cell_type": "code",
   "execution_count": 52,
   "metadata": {},
   "outputs": [
    {
     "data": {
      "text/plain": [
       "[<matplotlib.lines.Line2D at 0x1c24010ba8>]"
      ]
     },
     "execution_count": 52,
     "metadata": {},
     "output_type": "execute_result"
    },
    {
     "name": "stderr",
     "output_type": "stream",
     "text": [
      "matplotlib.axes._base:DEBUG:update_title_pos\n",
      "matplotlib.axes._base:DEBUG:update_title_pos\n",
      "matplotlib.axes._base:DEBUG:update_title_pos\n",
      "matplotlib.axes._base:DEBUG:update_title_pos\n",
      "matplotlib.axes._base:DEBUG:update_title_pos\n"
     ]
    },
    {
     "data": {
      "image/png": "[encoded data removed]",
      "text/plain": [
       "<Figure size 432x288 with 1 Axes>"
      ]
     },
     "metadata": {
      "needs_background": "light"
     },
     "output_type": "display_data"
    }
   ],
   "source": [
    "plt.plot(t[1800:3600],p[:1800])\n",
    "plt.plot(t[1800:3600],y[:1800],'red')"
   ]
  },
  {
   "cell_type": "code",
   "execution_count": 58,
   "metadata": {},
   "outputs": [
    {
     "data": {
      "text/plain": [
       "array([-17.45792533, -16.66044573, -16.38152499, -16.81319206,\n",
       "       -16.60381716, -17.55936735, -18.16174829, -17.09687317,\n",
       "       -19.03719583, -18.95191748])"
      ]
     },
     "execution_count": 58,
     "metadata": {},
     "output_type": "execute_result"
    }
   ],
   "source": [
    "p[10:20]"
   ]
  },
  {
   "cell_type": "code",
   "execution_count": 60,
   "metadata": {},
   "outputs": [
    {
     "data": {
      "text/plain": [
       "array([-17.85446569, -17.17131934, -16.67889322, -16.40431803,\n",
       "       -16.68630458, -17.42980257, -18.23182895, -17.84269074,\n",
       "       -19.98012345, -19.14373329])"
      ]
     },
     "execution_count": 60,
     "metadata": {},
     "output_type": "execute_result"
    }
   ],
   "source": [
    "y[10:20]"
   ]
  },
  {
   "cell_type": "markdown",
   "metadata": {},
   "source": [
    "from sklearn.metrics import r2_score"
   ]
  },
  {
   "cell_type": "code",
   "execution_count": 57,
   "metadata": {},
   "outputs": [
    {
     "data": {
      "text/plain": [
       "0.9991296248394299"
      ]
     },
     "execution_count": 57,
     "metadata": {},
     "output_type": "execute_result"
    }
   ],
   "source": [
    "r2_score(y,p)"
   ]
  },
  {
   "cell_type": "markdown",
   "metadata": {},
   "source": [
    "Wow...\n",
    "\n",
    "What if we change max_features to 1, like I've seen elsewhere..."
   ]
  },
  {
   "cell_type": "code",
   "execution_count": 61,
   "metadata": {},
   "outputs": [],
   "source": [
    "rf2 = RandomForestRegressor(n_estimators=100, verbose=3, n_jobs=-1, max_features=1)"
   ]
  },
  {
   "cell_type": "code",
   "execution_count": 62,
   "metadata": {},
   "outputs": [
    {
     "name": "stderr",
     "output_type": "stream",
     "text": [
      "[Parallel(n_jobs=-1)]: Using backend ThreadingBackend with 8 concurrent workers.\n"
     ]
    },
    {
     "name": "stdout",
     "output_type": "stream",
     "text": [
      "building tree 1 of 100\n",
      "building tree 2 of 100\n",
      "building tree 3 of 100building tree 4 of 100\n",
      "\n",
      "building tree 5 of 100building tree 6 of 100\n",
      "building tree 7 of 100\n",
      "\n",
      "building tree 8 of 100\n",
      "building tree 9 of 100\n",
      "building tree 10 of 100\n",
      "building tree 11 of 100building tree 12 of 100\n",
      "\n",
      "building tree 13 of 100\n",
      "building tree 14 of 100\n",
      "building tree 15 of 100\n",
      "building tree 16 of 100\n",
      "building tree 17 of 100\n",
      "building tree 18 of 100\n",
      "building tree 19 of 100building tree 20 of 100\n",
      "\n",
      "building tree 21 of 100\n",
      "building tree 22 of 100\n",
      "building tree 23 of 100\n",
      "building tree 24 of 100\n"
     ]
    },
    {
     "name": "stderr",
     "output_type": "stream",
     "text": [
      "[Parallel(n_jobs=-1)]: Done  16 tasks      | elapsed:    0.6s\n"
     ]
    },
    {
     "name": "stdout",
     "output_type": "stream",
     "text": [
      "building tree 25 of 100\n",
      "building tree 26 of 100\n",
      "building tree 27 of 100\n",
      "building tree 28 of 100\n",
      "building tree 29 of 100\n",
      "building tree 30 of 100\n",
      "building tree 31 of 100\n",
      "building tree 32 of 100\n",
      "building tree 33 of 100\n",
      "building tree 34 of 100\n",
      "building tree 35 of 100\n",
      "building tree 36 of 100\n",
      "building tree 37 of 100\n",
      "building tree 38 of 100\n",
      "building tree 39 of 100\n",
      "building tree 40 of 100\n",
      "building tree 41 of 100\n",
      "building tree 42 of 100\n",
      "building tree 43 of 100\n",
      "building tree 44 of 100\n",
      "building tree 45 of 100\n",
      "building tree 46 of 100\n",
      "building tree 47 of 100\n",
      "building tree 48 of 100\n",
      "building tree 49 of 100\n",
      "building tree 50 of 100\n",
      "building tree 51 of 100\n",
      "building tree 52 of 100\n",
      "building tree 53 of 100\n",
      "building tree 54 of 100\n",
      "building tree 55 of 100\n",
      "building tree 56 of 100\n",
      "building tree 57 of 100\n",
      "building tree 58 of 100\n",
      "building tree 59 of 100\n",
      "building tree 60 of 100\n",
      "building tree 61 of 100\n",
      "building tree 62 of 100\n",
      "building tree 63 of 100\n",
      "building tree 64 of 100\n",
      "building tree 65 of 100\n",
      "building tree 66 of 100\n",
      "building tree 67 of 100\n",
      "building tree 68 of 100\n",
      "building tree 69 of 100\n",
      "building tree 70 of 100\n",
      "building tree 71 of 100\n",
      "building tree 72 of 100\n",
      "building tree 73 of 100\n",
      "building tree 74 of 100\n",
      "building tree 75 of 100\n",
      "building tree 76 of 100\n",
      "building tree 77 of 100\n",
      "building tree 78 of 100\n",
      "building tree 79 of 100\n",
      "building tree 80 of 100\n",
      "building tree 81 of 100\n",
      "building tree 82 of 100\n",
      "building tree 83 of 100\n",
      "building tree 84 of 100\n",
      "building tree 85 of 100\n",
      "building tree 86 of 100\n",
      "building tree 87 of 100\n",
      "building tree 88 of 100\n",
      "building tree 89 of 100\n",
      "building tree 90 of 100\n",
      "building tree 91 of 100\n",
      "building tree 92 of 100\n",
      "building tree 93 of 100\n",
      "building tree 94 of 100\n",
      "building tree 95 of 100\n",
      "building tree 96 of 100\n",
      "building tree 97 of 100\n",
      "building tree 98 of 100\n",
      "building tree 99 of 100\n",
      "building tree 100 of 100\n"
     ]
    },
    {
     "name": "stderr",
     "output_type": "stream",
     "text": [
      "[Parallel(n_jobs=-1)]: Done 100 out of 100 | elapsed:    3.3s finished\n"
     ]
    },
    {
     "data": {
      "text/plain": [
       "RandomForestRegressor(bootstrap=True, criterion='mse', max_depth=None,\n",
       "           max_features=1, max_leaf_nodes=None, min_impurity_decrease=0.0,\n",
       "           min_impurity_split=None, min_samples_leaf=1,\n",
       "           min_samples_split=2, min_weight_fraction_leaf=0.0,\n",
       "           n_estimators=100, n_jobs=-1, oob_score=False, random_state=None,\n",
       "           verbose=3, warm_start=False)"
      ]
     },
     "execution_count": 62,
     "metadata": {},
     "output_type": "execute_result"
    }
   ],
   "source": [
    "rf2.fit(x,y)"
   ]
  },
  {
   "cell_type": "code",
   "execution_count": 63,
   "metadata": {},
   "outputs": [
    {
     "name": "stderr",
     "output_type": "stream",
     "text": [
      "[Parallel(n_jobs=8)]: Using backend ThreadingBackend with 8 concurrent workers.\n",
      "[Parallel(n_jobs=8)]: Done  16 tasks      | elapsed:    0.2s\n",
      "[Parallel(n_jobs=8)]: Done 100 out of 100 | elapsed:    1.2s finished\n"
     ]
    }
   ],
   "source": [
    "p2 = rf2.predict(x)"
   ]
  },
  {
   "cell_type": "code",
   "execution_count": 64,
   "metadata": {},
   "outputs": [
    {
     "data": {
      "text/plain": [
       "0.9990300450354151"
      ]
     },
     "execution_count": 64,
     "metadata": {},
     "output_type": "execute_result"
    }
   ],
   "source": [
    "r2_score(y,p2)"
   ]
  },
  {
   "cell_type": "markdown",
   "metadata": {},
   "source": [
    "### Less inputs\n",
    "So we knew that the largest repetition was 30 minutes...but what if we didn't?\n",
    "\n",
    "What if we only used 15 minutes of inputs?"
   ]
  },
  {
   "cell_type": "code",
   "execution_count": 80,
   "metadata": {},
   "outputs": [
    {
     "name": "stdout",
     "output_type": "stream",
     "text": [
      "Y shape: (85500,) \n",
      "X shape: (85500, 900)\n"
     ]
    }
   ],
   "source": [
    "data = make_views(sig.reshape(-1,1),901,1)\n",
    "xx = data[:,:900].squeeze()\n",
    "yy = data[:,900].ravel()\n",
    "print('Y shape:',yy.shape,'\\nX shape:',xx.shape)"
   ]
  },
  {
   "cell_type": "code",
   "execution_count": 81,
   "metadata": {},
   "outputs": [],
   "source": [
    "rf3 = RandomForestRegressor(n_estimators=100, n_jobs=-1, max_features=2)\n",
    "rf3.fit(xx,yy)\n",
    "p3 = rf3.predict(xx)"
   ]
  },
  {
   "cell_type": "code",
   "execution_count": 82,
   "metadata": {},
   "outputs": [
    {
     "data": {
      "text/plain": [
       "0.9991162786981512"
      ]
     },
     "execution_count": 82,
     "metadata": {},
     "output_type": "execute_result"
    }
   ],
   "source": [
    "r2_score(yy,p3)"
   ]
  },
  {
   "cell_type": "markdown",
   "metadata": {},
   "source": [
    "### Even less data\n",
    "Ok, wow... so 15 minutes still gets 99.91% r2 score.  Same basic score as using 30 minutes of input.\n",
    "\n",
    "How about if we use 5 minutes?"
   ]
  },
  {
   "cell_type": "code",
   "execution_count": 84,
   "metadata": {},
   "outputs": [
    {
     "name": "stdout",
     "output_type": "stream",
     "text": [
      "Y shape: (86100,) \n",
      "X shape: (86100, 300)\n"
     ]
    }
   ],
   "source": [
    "data = make_views(sig.reshape(-1,1),301,1)\n",
    "x4 = data[:,:300].squeeze()\n",
    "y4 = data[:,300].ravel()\n",
    "print('Y shape:',y4.shape,'\\nX shape:',x4.shape)"
   ]
  },
  {
   "cell_type": "code",
   "execution_count": 85,
   "metadata": {},
   "outputs": [
    {
     "name": "stderr",
     "output_type": "stream",
     "text": [
      "[Parallel(n_jobs=-1)]: Using backend ThreadingBackend with 8 concurrent workers.\n"
     ]
    },
    {
     "name": "stdout",
     "output_type": "stream",
     "text": [
      "building tree 1 of 100building tree 2 of 100building tree 3 of 100\n",
      "building tree 4 of 100\n",
      "\n",
      "\n",
      "building tree 5 of 100building tree 6 of 100\n",
      "building tree 7 of 100\n",
      "building tree 8 of 100\n",
      "\n",
      "building tree 9 of 100\n",
      "building tree 10 of 100\n",
      "building tree 11 of 100\n",
      "building tree 12 of 100\n",
      "building tree 13 of 100\n",
      "building tree 14 of 100\n",
      "building tree 15 of 100\n",
      "building tree 16 of 100\n",
      "building tree 17 of 100\n",
      "building tree 18 of 100\n",
      "building tree 19 of 100\n",
      "building tree 20 of 100building tree 21 of 100\n",
      "\n",
      "building tree 22 of 100\n",
      "building tree 23 of 100\n",
      "building tree 24 of 100\n"
     ]
    },
    {
     "name": "stderr",
     "output_type": "stream",
     "text": [
      "[Parallel(n_jobs=-1)]: Done  16 tasks      | elapsed:    0.8s\n"
     ]
    },
    {
     "name": "stdout",
     "output_type": "stream",
     "text": [
      "building tree 25 of 100\n",
      "building tree 26 of 100\n",
      "building tree 27 of 100building tree 28 of 100\n",
      "\n",
      "building tree 29 of 100\n",
      "building tree 30 of 100\n",
      "building tree 31 of 100\n",
      "building tree 32 of 100\n",
      "building tree 33 of 100\n",
      "building tree 34 of 100\n",
      "building tree 35 of 100\n",
      "building tree 36 of 100\n",
      "building tree 37 of 100\n",
      "building tree 38 of 100\n",
      "building tree 39 of 100\n",
      "building tree 40 of 100\n",
      "building tree 41 of 100\n",
      "building tree 42 of 100\n",
      "building tree 43 of 100\n",
      "building tree 44 of 100\n",
      "building tree 45 of 100\n",
      "building tree 46 of 100\n",
      "building tree 47 of 100\n",
      "building tree 48 of 100\n",
      "building tree 49 of 100\n",
      "building tree 50 of 100\n",
      "building tree 51 of 100\n",
      "building tree 52 of 100\n",
      "building tree 53 of 100\n",
      "building tree 54 of 100\n",
      "building tree 55 of 100\n",
      "building tree 56 of 100\n",
      "building tree 57 of 100\n",
      "building tree 58 of 100\n",
      "building tree 59 of 100\n",
      "building tree 60 of 100\n",
      "building tree 61 of 100\n",
      "building tree 62 of 100\n",
      "building tree 63 of 100\n",
      "building tree 64 of 100\n",
      "building tree 65 of 100\n",
      "building tree 66 of 100\n",
      "building tree 67 of 100\n",
      "building tree 68 of 100\n",
      "building tree 69 of 100\n",
      "building tree 70 of 100\n",
      "building tree 71 of 100\n",
      "building tree 72 of 100\n",
      "building tree 73 of 100\n",
      "building tree 74 of 100\n",
      "building tree 75 of 100\n",
      "building tree 76 of 100\n",
      "building tree 77 of 100\n",
      "building tree 78 of 100\n",
      "building tree 79 of 100\n",
      "building tree 80 of 100\n",
      "building tree 81 of 100\n",
      "building tree 82 of 100\n",
      "building tree 83 of 100\n",
      "building tree 84 of 100\n",
      "building tree 85 of 100\n",
      "building tree 86 of 100\n",
      "building tree 87 of 100\n",
      "building tree 88 of 100\n",
      "building tree 89 of 100\n",
      "building tree 90 of 100\n",
      "building tree 91 of 100\n",
      "building tree 92 of 100\n",
      "building tree 93 of 100\n",
      "building tree 94 of 100\n",
      "building tree 95 of 100\n",
      "building tree 96 of 100\n",
      "building tree 97 of 100\n",
      "building tree 98 of 100\n",
      "building tree 99 of 100\n",
      "building tree 100 of 100\n"
     ]
    },
    {
     "name": "stderr",
     "output_type": "stream",
     "text": [
      "[Parallel(n_jobs=-1)]: Done 100 out of 100 | elapsed:    4.6s finished\n",
      "[Parallel(n_jobs=8)]: Using backend ThreadingBackend with 8 concurrent workers.\n",
      "[Parallel(n_jobs=8)]: Done  16 tasks      | elapsed:    0.1s\n",
      "[Parallel(n_jobs=8)]: Done 100 out of 100 | elapsed:    0.6s finished\n"
     ]
    }
   ],
   "source": [
    "rf4 = RandomForestRegressor(n_estimators=100, verbose=3, n_jobs=-1, max_features=2)\n",
    "rf4.fit(x4,y4)\n",
    "p4 = rf4.predict(x4)"
   ]
  },
  {
   "cell_type": "code",
   "execution_count": 86,
   "metadata": {},
   "outputs": [
    {
     "data": {
      "text/plain": [
       "0.9990592426649167"
      ]
     },
     "execution_count": 86,
     "metadata": {},
     "output_type": "execute_result"
    }
   ],
   "source": [
    "r2_score(y4,p4)"
   ]
  },
  {
   "cell_type": "markdown",
   "metadata": {},
   "source": [
    "Ok, so using just 5 minutes of data input, we can have 99.906%, where as it is\n",
    "99.914% with 30 minutes....\n",
    "\n",
    "How about 1 minute?"
   ]
  },
  {
   "cell_type": "code",
   "execution_count": 87,
   "metadata": {},
   "outputs": [
    {
     "name": "stdout",
     "output_type": "stream",
     "text": [
      "Y shape: (86340,) \n",
      "X shape: (86340, 60)\n"
     ]
    }
   ],
   "source": [
    "data = make_views(sig.reshape(-1,1),61,1)\n",
    "x5 = data[:,:60].squeeze()\n",
    "y5 = data[:,60].ravel()\n",
    "print('Y shape:',y5.shape,'\\nX shape:',x5.shape)"
   ]
  },
  {
   "cell_type": "code",
   "execution_count": 88,
   "metadata": {},
   "outputs": [],
   "source": [
    "rf5 = RandomForestRegressor(n_estimators=100, n_jobs=-1, max_features=2)\n",
    "rf5.fit(x5,y5)\n",
    "p5 = rf5.predict(x5)"
   ]
  },
  {
   "cell_type": "code",
   "execution_count": 89,
   "metadata": {},
   "outputs": [
    {
     "data": {
      "text/plain": [
       "0.998867999895426"
      ]
     },
     "execution_count": 89,
     "metadata": {},
     "output_type": "execute_result"
    }
   ],
   "source": [
    "r2_score(y5,p5)"
   ]
  },
  {
   "cell_type": "markdown",
   "metadata": {},
   "source": [
    "Ok, wow... So we still get 99.88% accuracy with just one minute of data.\n",
    "\n",
    "Notice two things: (i) in my quickness to check things, I've not created a validation set, and\n",
    "(ii) since my signal is purely periodic, the output range in val/test never exceeds the output range\n",
    "seen in training (i.e., even if I fix issue (i), I still would be getting optimistic results).\n",
    "\n",
    "Often, one's business is growing, so sales and profits are growing -- and we want to predict how\n",
    "much we will make next year.  Training on historical data will limit the RF to making predictions\n",
    "within the historical output range.  Very bad!  (For more info: https://medium.com/datadriveninvestor/why-wont-time-series-data-and-random-forests-work-very-well-together-3c9f7b271631)\n",
    "\n",
    "One can remedy this somewhat.  For example, one might assume the growth is quasi-linear, and so fit\n",
    "a linear regression first and subtract it from the data, then use the residuals as inputs to \n",
    "the RF.  To avoid target leakage and/or overfitting to the training set here, one might use 50% of\n",
    "training to do the linear fit, the then other 50% of training (residuals) to do the RF fit.\n",
    "\n",
    "\n",
    "Also note that, as in the gestures project, the trn/val/tst splits must be done on the original\n",
    "time series before any windowing is done.  At least, this is an easy way to avoid direct leakage\n",
    "from training into val/tst.  "
   ]
  },
  {
   "cell_type": "code",
   "execution_count": 90,
   "metadata": {},
   "outputs": [
    {
     "name": "stdout",
     "output_type": "stream",
     "text": [
      "X trn shape: (60378, 60) \n",
      "Y trn shape: (60378,)\n"
     ]
    }
   ],
   "source": [
    "trn = round(len(data)*.7)\n",
    "#val = len(data) - trn\n",
    "sig_trn = sig[:trn]\n",
    "data_trn = make_views(sig_trn.reshape(-1,1),61,1)\n",
    "\n",
    "sig_val = sig[trn:]\n",
    "data_val = make_views(sig_val.reshape(-1,1),61,1)\n",
    "\n",
    "win = 60\n",
    "x_trn1 = data_trn[:,:win].squeeze()\n",
    "y_trn1 = data_trn[:,win].ravel()\n",
    "\n",
    "x_val1 = data_val[:,:win].squeeze()\n",
    "y_val1 = data_val[:,win].ravel()\n",
    "print('X trn shape:',x_trn1.shape,'\\nY trn shape:',y_trn1.shape)"
   ]
  },
  {
   "cell_type": "code",
   "execution_count": 91,
   "metadata": {},
   "outputs": [],
   "source": [
    "rf1 = RandomForestRegressor(n_estimators=100, n_jobs=-1, max_features=2)\n",
    "rf1.fit(x_trn1,y_trn1)\n",
    "p1 = rf1.predict(x_val1)"
   ]
  },
  {
   "cell_type": "code",
   "execution_count": 92,
   "metadata": {},
   "outputs": [
    {
     "data": {
      "text/plain": [
       "0.9912893564114151"
      ]
     },
     "execution_count": 92,
     "metadata": {},
     "output_type": "execute_result"
    }
   ],
   "source": [
    "r2_score(y_val1, p1)"
   ]
  },
  {
   "cell_type": "markdown",
   "metadata": {},
   "source": [
    "## Still works great... Try less data."
   ]
  },
  {
   "cell_type": "code",
   "execution_count": 94,
   "metadata": {},
   "outputs": [
    {
     "name": "stdout",
     "output_type": "stream",
     "text": [
      "X trn shape: (60408, 30) \n",
      "Y trn shape: (60408,)\n"
     ]
    }
   ],
   "source": [
    "trn = round(len(data)*.7)\n",
    "win = 30\n",
    "#val = len(data) - trn\n",
    "sig_trn = sig[:trn]\n",
    "data_trn = make_views(sig_trn.reshape(-1,1),win+1,1)\n",
    "\n",
    "sig_val = sig[trn:]\n",
    "data_val = make_views(sig_val.reshape(-1,1),win+1,1)\n",
    "\n",
    "x_trn2 = data_trn[:,:win].squeeze()\n",
    "y_trn2 = data_trn[:,win].ravel()\n",
    "\n",
    "x_val2 = data_val[:,:win].squeeze()\n",
    "y_val2 = data_val[:,win].ravel()\n",
    "print('X trn shape:',x_trn2.shape,'\\nY trn shape:',y_trn2.shape)"
   ]
  },
  {
   "cell_type": "code",
   "execution_count": 96,
   "metadata": {},
   "outputs": [],
   "source": [
    "rf2 = RandomForestRegressor(n_estimators=100, n_jobs=-1, max_features=2)\n",
    "rf2.fit(x_trn2,y_trn2)\n",
    "p2 = rf2.predict(x_val2)"
   ]
  },
  {
   "cell_type": "code",
   "execution_count": 97,
   "metadata": {},
   "outputs": [
    {
     "data": {
      "text/plain": [
       "0.9913206821201469"
      ]
     },
     "execution_count": 97,
     "metadata": {},
     "output_type": "execute_result"
    }
   ],
   "source": [
    "r2_score(y_val2, p2)"
   ]
  },
  {
   "cell_type": "markdown",
   "metadata": {},
   "source": [
    "# WTF?  Still good?  "
   ]
  },
  {
   "cell_type": "code",
   "execution_count": 98,
   "metadata": {},
   "outputs": [
    {
     "name": "stdout",
     "output_type": "stream",
     "text": [
      "X trn shape: (60428, 10) \n",
      "Y trn shape: (60428,)\n"
     ]
    }
   ],
   "source": [
    "trn = round(len(data)*.7)\n",
    "win = 10\n",
    "#val = len(data) - trn\n",
    "sig_trn = sig[:trn]\n",
    "data_trn = make_views(sig_trn.reshape(-1,1),win+1,1)\n",
    "\n",
    "sig_val = sig[trn:]\n",
    "data_val = make_views(sig_val.reshape(-1,1),win+1,1)\n",
    "\n",
    "x_trn3 = data_trn[:,:win].squeeze()\n",
    "y_trn3 = data_trn[:,win].ravel()\n",
    "\n",
    "x_val3 = data_val[:,:win].squeeze()\n",
    "y_val3 = data_val[:,win].ravel()\n",
    "print('X trn shape:',x_trn3.shape,'\\nY trn shape:',y_trn3.shape)"
   ]
  },
  {
   "cell_type": "code",
   "execution_count": 99,
   "metadata": {},
   "outputs": [],
   "source": [
    "rf3 = RandomForestRegressor(n_estimators=100, n_jobs=-1, max_features=2)\n",
    "rf3.fit(x_trn3,y_trn3)\n",
    "p3 = rf3.predict(x_val3)"
   ]
  },
  {
   "cell_type": "code",
   "execution_count": 100,
   "metadata": {},
   "outputs": [
    {
     "data": {
      "text/plain": [
       "0.9914895564303101"
      ]
     },
     "execution_count": 100,
     "metadata": {},
     "output_type": "execute_result"
    }
   ],
   "source": [
    "r2_score(y_val3, p3)"
   ]
  },
  {
   "cell_type": "markdown",
   "metadata": {},
   "source": [
    "# Uhhhh"
   ]
  },
  {
   "cell_type": "code",
   "execution_count": 101,
   "metadata": {},
   "outputs": [
    {
     "name": "stdout",
     "output_type": "stream",
     "text": [
      "X trn shape: (60435, 3) \n",
      "Y trn shape: (60435,)\n"
     ]
    }
   ],
   "source": [
    "trn = round(len(data)*.7)\n",
    "win = 3\n",
    "#val = len(data) - trn\n",
    "sig_trn = sig[:trn]\n",
    "data_trn = make_views(sig_trn.reshape(-1,1),win+1,1)\n",
    "\n",
    "sig_val = sig[trn:]\n",
    "data_val = make_views(sig_val.reshape(-1,1),win+1,1)\n",
    "\n",
    "x_trn3 = data_trn[:,:win].squeeze()\n",
    "y_trn3 = data_trn[:,win].ravel()\n",
    "\n",
    "x_val3 = data_val[:,:win].squeeze()\n",
    "y_val3 = data_val[:,win].ravel()\n",
    "print('X trn shape:',x_trn3.shape,'\\nY trn shape:',y_trn3.shape)"
   ]
  },
  {
   "cell_type": "code",
   "execution_count": 102,
   "metadata": {},
   "outputs": [],
   "source": [
    "rf3 = RandomForestRegressor(n_estimators=100, n_jobs=-1, max_features=2)\n",
    "rf3.fit(x_trn3,y_trn3)\n",
    "p3 = rf3.predict(x_val3)"
   ]
  },
  {
   "cell_type": "code",
   "execution_count": 103,
   "metadata": {},
   "outputs": [
    {
     "data": {
      "text/plain": [
       "0.9907066736819914"
      ]
     },
     "execution_count": 103,
     "metadata": {},
     "output_type": "execute_result"
    }
   ],
   "source": [
    "r2_score(y_val3, p3)"
   ]
  },
  {
   "cell_type": "markdown",
   "metadata": {},
   "source": [
    "# Uhhhh.  Uhhhhh.  2?"
   ]
  },
  {
   "cell_type": "code",
   "execution_count": 104,
   "metadata": {},
   "outputs": [
    {
     "name": "stdout",
     "output_type": "stream",
     "text": [
      "X trn shape: (60436, 2) \n",
      "Y trn shape: (60436,)\n"
     ]
    },
    {
     "data": {
      "text/plain": [
       "0.9897025245752841"
      ]
     },
     "execution_count": 104,
     "metadata": {},
     "output_type": "execute_result"
    }
   ],
   "source": [
    "trn = round(len(data)*.7)\n",
    "win = 2\n",
    "#val = len(data) - trn\n",
    "sig_trn = sig[:trn]\n",
    "data_trn = make_views(sig_trn.reshape(-1,1),win+1,1)\n",
    "\n",
    "sig_val = sig[trn:]\n",
    "data_val = make_views(sig_val.reshape(-1,1),win+1,1)\n",
    "\n",
    "x_trn3 = data_trn[:,:win].squeeze()\n",
    "y_trn3 = data_trn[:,win].ravel()\n",
    "\n",
    "x_val3 = data_val[:,:win].squeeze()\n",
    "y_val3 = data_val[:,win].ravel()\n",
    "print('X trn shape:',x_trn3.shape,'\\nY trn shape:',y_trn3.shape)\n",
    "\n",
    "rf3 = RandomForestRegressor(n_estimators=100, n_jobs=-1, max_features=2)\n",
    "rf3.fit(x_trn3,y_trn3)\n",
    "p3 = rf3.predict(x_val3)\n",
    "\n",
    "r2_score(y_val3, p3)"
   ]
  },
  {
   "cell_type": "markdown",
   "metadata": {},
   "source": [
    "### Some Thoughts\n",
    "\n",
    "These results seem too good to be true.  I still get 99% r2 score (or 98.97%, if you're an asshole).  Like,\n",
    "wow...  Wtf?  \n",
    "\n",
    "This could be b/c the curve is slowly varying relative to the sample rate.  If you recall, I have 3 sinusoids\n",
    "oscillating at 30s, 5m, and 20m, then a sawtooth at 30m.  Other than the 30s wave, 3-dp windows (x1,x2,y) are\n",
    "fairly constant.  My guess is that the trees just learn to output the same round about number as was entered...\n",
    "\n",
    "I found a blog that did a very similar analysis, but w/ light curve data from a star.  Same great results.\n",
    "\n",
    "http://astrohackweek.org/blog/time-series-rf.html\n",
    "\n",
    "Who needs to know what is going to happen a second from now anyway?  A more realistic\n",
    "prediction might be:  What will happen 10 minutes from now?\n",
    "\n",
    "This makes for some interesting windowing/slicing.  Also, do you want to predict *exactly* 10 minutes from\n",
    "now, or a less noisy 10-30 second avg 10mins from now...?"
   ]
  },
  {
   "cell_type": "code",
   "execution_count": null,
   "metadata": {},
   "outputs": [],
   "source": []
  }
 ],
 "metadata": {
  "kernelspec": {
   "display_name": "Python 3",
   "language": "python",
   "name": "python3"
  },
  "language_info": {
   "codemirror_mode": {
    "name": "ipython",
    "version": 3
   },
   "file_extension": ".py",
   "mimetype": "text/x-python",
   "name": "python",
   "nbconvert_exporter": "python",
   "pygments_lexer": "ipython3",
   "version": "3.7.2"
  }
 },
 "nbformat": 4,
 "nbformat_minor": 2
}
