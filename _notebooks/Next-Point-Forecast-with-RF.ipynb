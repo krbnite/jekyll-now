{
 "cells": [
  {
   "cell_type": "code",
   "execution_count": 95,
   "metadata": {},
   "outputs": [
    {
     "name": "stderr",
     "output_type": "stream",
     "text": [
      "matplotlib.pyplot:DEBUG:Loaded backend module://ipykernel.pylab.backend_inline version unknown.\n"
     ]
    }
   ],
   "source": [
    "import numpy as np\n",
    "import pandas as pd\n",
    "from scipy import signal\n",
    "from sklearn.ensemble import RandomForestRegressor\n",
    "from sklearn.metrics import r2_score\n",
    "from matplotlib import pyplot as plt\n",
    "%matplotlib inline\n",
    "\n",
    "# Other Stuff\n",
    "from scitime import Estimator\n",
    "from datetime import datetime"
   ]
  },
  {
   "cell_type": "markdown",
   "metadata": {},
   "source": [
    "# Create Some Fake Time Series Data"
   ]
  },
  {
   "cell_type": "code",
   "execution_count": 3,
   "metadata": {},
   "outputs": [],
   "source": [
    "t = np.arange(24*3600)\n",
    "small_sin = np.sin(2*np.pi*t/30)     # 30 sec\n",
    "med_cos = 3*np.cos(2*np.pi*t/300)    # 5 min\n",
    "big_sin = 11*np.sin(2*np.pi*t/1200)  # 20 min\n",
    "long_saw = 20*signal.sawtooth(2*np.pi*t/1800)  # 30 min\n",
    "err = 0.75*np.random.randn(len(t))\n",
    "sig = small_sin + med_cos + big_sin + long_saw + err"
   ]
  },
  {
   "cell_type": "code",
   "execution_count": 94,
   "metadata": {},
   "outputs": [
    {
     "data": {
      "text/plain": [
       "[<matplotlib.lines.Line2D at 0x1c1da1d4a8>]"
      ]
     },
     "execution_count": 94,
     "metadata": {},
     "output_type": "execute_result"
    },
    {
     "name": "stderr",
     "output_type": "stream",
     "text": [
      "matplotlib.axes._base:DEBUG:update_title_pos\n",
      "matplotlib.axes._base:DEBUG:update_title_pos\n",
      "matplotlib.axes._base:DEBUG:update_title_pos\n",
      "matplotlib.axes._base:DEBUG:update_title_pos\n",
      "matplotlib.axes._base:DEBUG:update_title_pos\n"
     ]
    },
    {
     "data": {
      "image/png": "[encoded data removed]",
      "text/plain": [
       "<Figure size 432x288 with 1 Axes>"
      ]
     },
     "metadata": {
      "needs_background": "light"
     },
     "output_type": "display_data"
    }
   ],
   "source": [
    "plt.plot(t[:10000],sig[:10000])"
   ]
  },
  {
   "cell_type": "markdown",
   "metadata": {},
   "source": [
    "# Make Windows Function"
   ]
  },
  {
   "cell_type": "code",
   "execution_count": 4,
   "metadata": {},
   "outputs": [],
   "source": [
    "from numpy.lib.stride_tricks import as_strided\n",
    "def make_views(\n",
    "  arr,\n",
    "  win_size,\n",
    "  step_size,\n",
    "  writeable = False,\n",
    "):\n",
    "    \"\"\"\n",
    "    arr: any 2D array whose columns are distinct variables and \n",
    "    rows are data records at some timestamp t\n",
    "    win_size: size of data window (given in data points along record/time axis)\n",
    "    step_size: size of window step (given in data point along record/time axis)\n",
    "    writable: if True, elements can be modified in new data structure, which will affect\n",
    "    original array (defaults to False)\n",
    "  \n",
    "    Note that step_size is related to window overlap (overlap = win_size - step_size), in \n",
    "    case you think in overlaps.\n",
    "  \n",
    "    This function can work with C-like and F-like arrays, and with DataFrames.  Yay.\n",
    "    \"\"\"\n",
    "  \n",
    "    # If DataFrame, use only underlying NumPy array\n",
    "    if type(arr) == type(pd.DataFrame()):\n",
    "        arr = arr.values\n",
    "  \n",
    "    # Compute Shape Parameter for as_strided\n",
    "    n_records = arr.shape[0]\n",
    "    n_columns = arr.shape[1]\n",
    "    remainder = (n_records - win_size) % step_size \n",
    "    num_windows = 1 + int((n_records - win_size - remainder) / step_size)\n",
    "    shape = (num_windows, win_size, n_columns)\n",
    "  \n",
    "    # Compute Strides Parameter for as_strided\n",
    "    next_win = step_size * arr.strides[0]\n",
    "    next_row, next_col = arr.strides\n",
    "    strides = (next_win, next_row, next_col)\n",
    "\n",
    "    new_view_structure = as_strided(\n",
    "      arr,\n",
    "      shape = shape,\n",
    "      strides = strides,\n",
    "      writeable = writeable,\n",
    "    )\n",
    "    return new_view_structure"
   ]
  },
  {
   "cell_type": "markdown",
   "metadata": {},
   "source": [
    "# 1800-Point Windows"
   ]
  },
  {
   "cell_type": "code",
   "execution_count": 5,
   "metadata": {},
   "outputs": [],
   "source": [
    "# We will create 1801 windows, where first 1800 points are X and last point is y\n",
    "data = make_views(sig.reshape(-1,1),1801,1)"
   ]
  },
  {
   "cell_type": "code",
   "execution_count": 6,
   "metadata": {},
   "outputs": [
    {
     "name": "stdout",
     "output_type": "stream",
     "text": [
      "Y shape: (84600,) \n",
      "X shape: (84600, 1800)\n"
     ]
    }
   ],
   "source": [
    "x = data[:,:1800].squeeze()\n",
    "y = data[:,1800].ravel()\n",
    "print('Y shape:',y.shape,'\\nX shape:',x.shape)"
   ]
  },
  {
   "cell_type": "markdown",
   "metadata": {},
   "source": [
    "## Estimate Computation Time\n",
    "\n",
    "I ran a fairly default RF......and it took over an hour before I hit quit.  I saw on some blogs\n",
    "that people start with very low mtry, e.g., 1 or 2, and build up from there if necessary.  \n",
    "\n",
    "I also found a package that will estimate your sklearn runtime:\n",
    "    https://stackoverflow.com/questions/22443041/predicting-how-long-an-scikit-learn-classification-will-take-to-run\n",
    "    \n",
    "So I downloaded that:\n",
    "```\n",
    "pip install scitime\n",
    "```\n",
    "\n",
    "Hmm... Now it's showing as if the computation time would only take 15-20 mins (?)."
   ]
  },
  {
   "cell_type": "code",
   "execution_count": 33,
   "metadata": {},
   "outputs": [],
   "source": [
    "from scitime import Estimator\n",
    "from datetime import datetime"
   ]
  },
  {
   "cell_type": "code",
   "execution_count": 29,
   "metadata": {},
   "outputs": [
    {
     "name": "stderr",
     "output_type": "stream",
     "text": [
      "scitime.estimate.Estimator:DEBUG:The model would fit. Moving on\n",
      "scitime.estimate.Estimator:DEBUG:Fetching estimator: RF_RandomForestRegressor_estimator.pkl\n",
      "scitime.estimate.Estimator:INFO:Training your model for these params: {'total_memory': [17179869184], 'available_memory': [9180737536], 'num_cpu': [8], 'num_rows': [84600], 'num_features': [1800], 'n_estimators': [100], 'max_depth': [None], 'min_samples_split': [2], 'min_samples_leaf': [1], 'min_weight_fraction_leaf': [0.0], 'max_features': ['auto'], 'criterion': ['mse'], 'max_leaf_nodes': [None], 'min_impurity_decrease': [0.0], 'min_impurity_split': [None], 'bootstrap': [True], 'oob_score': [False], 'n_jobs': [8]}\n",
      "scitime.estimate.Estimator:INFO:Transforming dataset for semi dummy features\n",
      "scitime.estimate.Estimator:WARNING:Parameters ['warm_start', 'random_state', 'verbose'] will not be accounted for\n",
      "scitime.estimate.Estimator:INFO:Training your RandomForestRegressor model should take ~ 5 minutes\n",
      "                and 52 seconds\n",
      "scitime.estimate.Estimator:INFO:The 95.0% prediction interval is [1 second, 16 minutes\n",
      "                and 7 seconds]\n"
     ]
    }
   ],
   "source": [
    "rf = RandomForestRegressor(n_estimators=100, n_jobs=-1)\n",
    "estimator = Estimator() \n",
    "estimation, lower_bound, upper_bound = estimator.time(rf, x, y)"
   ]
  },
  {
   "cell_type": "code",
   "execution_count": 30,
   "metadata": {},
   "outputs": [
    {
     "name": "stdout",
     "output_type": "stream",
     "text": [
      "Lower Bound: 0.0 mins\n",
      "Estimation: 5.9 mins\n",
      "Upper Bound: 16.1 mins\n"
     ]
    }
   ],
   "source": [
    "print(f'Lower Bound: {round(lower_bound/60,1)} mins')\n",
    "print(f'Estimation: {round(estimation/60,1)} mins')\n",
    "print(f'Upper Bound: {round(upper_bound/60,1)} mins')"
   ]
  },
  {
   "cell_type": "markdown",
   "metadata": {},
   "source": [
    "# Create Random Forest \n",
    "First, we look at 1800-point windows, where we try to predict the next point.  In other words,\n",
    "assuming we could make a prediction in a millisecond, we have the most recent data point (current\n",
    "moment) and 1799 look-back data points, and we want to predict the next second.  \n",
    "\n",
    "I saw somewhere that using `max_features=2` is a good way to speed up computation time\n",
    "for a large feature set.  Considering that we are currently using 1800-point windows, I'd \n",
    "say this fits the bill.\n",
    "\n",
    "Note that the trn/val splits must be done on the original\n",
    "time series before any windowing is done.  At least, this is an easy way to avoid direct leakage."
   ]
  },
  {
   "cell_type": "code",
   "execution_count": 188,
   "metadata": {},
   "outputs": [],
   "source": [
    "def trn_val_data(\n",
    "    signal, \n",
    "    win_size, \n",
    "    trn_sz=0.7,\n",
    "):\n",
    "\n",
    "    trn = round(len(signal)*trn_sz)\n",
    "\n",
    "    sig_trn = signal[:trn]\n",
    "    data_trn = make_views(sig_trn.reshape(-1,1) ,win_size+1, 1)\n",
    "    x_trn = data_trn[:, :win_size].squeeze()\n",
    "    y_trn = data_trn[:, win_size].ravel()\n",
    "    \n",
    "    sig_val = signal[trn:]\n",
    "    data_val = make_views(sig_val.reshape(-1,1), win_size+1, 1)\n",
    "    x_val = data_val[:, :win_size].squeeze()\n",
    "    y_val = data_val[:, win_size].ravel()\n",
    "\n",
    "    print('X trn shape:', x_trn.shape, '\\nY trn shape:', y_trn.shape)\n",
    "    \n",
    "    return x_trn, y_trn, x_val, y_val"
   ]
  },
  {
   "cell_type": "code",
   "execution_count": 84,
   "metadata": {},
   "outputs": [],
   "source": [
    "rf = RandomForestRegressor(n_estimators=100, max_features=2, n_jobs=-1)"
   ]
  },
  {
   "cell_type": "code",
   "execution_count": 152,
   "metadata": {},
   "outputs": [
    {
     "name": "stdout",
     "output_type": "stream",
     "text": [
      "X trn shape: (58680, 1800) \n",
      "Y trn shape: (58680,)\n"
     ]
    }
   ],
   "source": [
    "x_trn, y_trn, x_val, y_val = trn_val_data(sig, 1800)"
   ]
  },
  {
   "cell_type": "code",
   "execution_count": 99,
   "metadata": {},
   "outputs": [
    {
     "name": "stderr",
     "output_type": "stream",
     "text": [
      "scitime.estimate.Estimator:DEBUG:The model would fit. Moving on\n",
      "scitime.estimate.Estimator:DEBUG:Fetching estimator: RF_RandomForestRegressor_estimator.pkl\n",
      "scitime.estimate.Estimator:INFO:Training your model for these params: {'total_memory': [17179869184], 'available_memory': [7110299648], 'num_cpu': [8], 'num_rows': [58680], 'num_features': [1800], 'n_estimators': [100], 'max_depth': [None], 'min_samples_split': [2], 'min_samples_leaf': [1], 'min_weight_fraction_leaf': [0.0], 'max_features': [2], 'criterion': ['mse'], 'max_leaf_nodes': [None], 'min_impurity_decrease': [0.0], 'min_impurity_split': [None], 'bootstrap': [True], 'oob_score': [False], 'n_jobs': [8]}\n",
      "scitime.estimate.Estimator:INFO:Transforming dataset for semi dummy features\n",
      "scitime.estimate.Estimator:WARNING:Parameters ['warm_start', 'random_state', 'verbose'] will not be accounted for\n",
      "scitime.estimate.Estimator:INFO:Training your RandomForestRegressor model should take ~ 4 minutes\n",
      "                and 5 seconds\n",
      "scitime.estimate.Estimator:INFO:The 95.0% prediction interval is [0 seconds, 13 minutes\n",
      "                and 39 seconds]\n"
     ]
    }
   ],
   "source": [
    "estimator = Estimator() \n",
    "estimation, lower_bound, upper_bound = estimator.time(rf, x_trn, y_trn)"
   ]
  },
  {
   "cell_type": "code",
   "execution_count": 100,
   "metadata": {},
   "outputs": [
    {
     "name": "stdout",
     "output_type": "stream",
     "text": [
      "Lower Bound: 0.0 mins\n",
      "Estimation: 4.1 mins\n",
      "Upper Bound: 13.6 mins\n"
     ]
    }
   ],
   "source": [
    "print(f'Lower Bound: {round(lower_bound/60,1)} mins')\n",
    "print(f'Estimation: {round(estimation/60,1)} mins')\n",
    "print(f'Upper Bound: {round(upper_bound/60,1)} mins')"
   ]
  },
  {
   "cell_type": "code",
   "execution_count": 153,
   "metadata": {},
   "outputs": [],
   "source": [
    "t0 = datetime.now()\n",
    "rf.fit(x_trn, y_trn)\n",
    "tf = datetime.now()"
   ]
  },
  {
   "cell_type": "code",
   "execution_count": 154,
   "metadata": {},
   "outputs": [
    {
     "name": "stdout",
     "output_type": "stream",
     "text": [
      "Computation Time: 0:00:03.371777\n"
     ]
    }
   ],
   "source": [
    "print('Computation Time:', (tf-t0))"
   ]
  },
  {
   "cell_type": "code",
   "execution_count": 155,
   "metadata": {},
   "outputs": [],
   "source": [
    "p = rf.predict(x_val)"
   ]
  },
  {
   "cell_type": "code",
   "execution_count": 156,
   "metadata": {},
   "outputs": [
    {
     "data": {
      "text/plain": [
       "[<matplotlib.lines.Line2D at 0x1c1dfcb710>]"
      ]
     },
     "execution_count": 156,
     "metadata": {},
     "output_type": "execute_result"
    },
    {
     "name": "stderr",
     "output_type": "stream",
     "text": [
      "matplotlib.axes._base:DEBUG:update_title_pos\n",
      "matplotlib.axes._base:DEBUG:update_title_pos\n",
      "matplotlib.axes._base:DEBUG:update_title_pos\n",
      "matplotlib.axes._base:DEBUG:update_title_pos\n",
      "matplotlib.axes._base:DEBUG:update_title_pos\n"
     ]
    },
    {
     "data": {
      "image/png": "[encoded data removed]",
      "text/plain": [
       "<Figure size 432x288 with 1 Axes>"
      ]
     },
     "metadata": {
      "needs_background": "light"
     },
     "output_type": "display_data"
    }
   ],
   "source": [
    "plt.plot(t[1800:3600],y_val[:1800])\n",
    "plt.plot(t[1800:3600],p[:1800],'red')"
   ]
  },
  {
   "cell_type": "code",
   "execution_count": 157,
   "metadata": {},
   "outputs": [
    {
     "data": {
      "text/plain": [
       "[<matplotlib.lines.Line2D at 0x1c1e519908>]"
      ]
     },
     "execution_count": 157,
     "metadata": {},
     "output_type": "execute_result"
    },
    {
     "name": "stderr",
     "output_type": "stream",
     "text": [
      "matplotlib.axes._base:DEBUG:update_title_pos\n",
      "matplotlib.axes._base:DEBUG:update_title_pos\n",
      "matplotlib.axes._base:DEBUG:update_title_pos\n",
      "matplotlib.axes._base:DEBUG:update_title_pos\n",
      "matplotlib.axes._base:DEBUG:update_title_pos\n"
     ]
    },
    {
     "data": {
      "image/png": "[encoded data removed]",
      "text/plain": [
       "<Figure size 432x288 with 1 Axes>"
      ]
     },
     "metadata": {
      "needs_background": "light"
     },
     "output_type": "display_data"
    }
   ],
   "source": [
    "plt.plot(t[1850:1950],y_val[50:150])\n",
    "plt.plot(t[1850:1950],p[50:150],'red')"
   ]
  },
  {
   "cell_type": "markdown",
   "metadata": {},
   "source": [
    "from sklearn.metrics import r2_score"
   ]
  },
  {
   "cell_type": "code",
   "execution_count": 108,
   "metadata": {},
   "outputs": [
    {
     "data": {
      "text/plain": [
       "0.9939148325356025"
      ]
     },
     "execution_count": 108,
     "metadata": {},
     "output_type": "execute_result"
    }
   ],
   "source": [
    "r2_score(y_val, p)"
   ]
  },
  {
   "cell_type": "markdown",
   "metadata": {},
   "source": [
    "Another thing I was thinking when my model was running forever was, \"I wish I knew what\n",
    "was happening?  Like, what tree is it on?!\"  I found out that you can see this type of info\n",
    "if you set `verbose=3`.  \n",
    "\n",
    "I found that if you set this verbosity level, then look at the scitime computation time estimate,\n",
    "then it somehow resets the verbosity to the default level.  So if you want to look at a verbose\n",
    "RF creation, you cannot first run the RF through a scitime estimate..."
   ]
  },
  {
   "cell_type": "markdown",
   "metadata": {},
   "source": [
    "Wow...\n",
    "\n",
    "What if we change max_features to 1, like I've seen elsewhere..."
   ]
  },
  {
   "cell_type": "code",
   "execution_count": 57,
   "metadata": {},
   "outputs": [],
   "source": [
    "rf2 = RandomForestRegressor(n_estimators=100, verbose=3, n_jobs=-1, max_features=1)"
   ]
  },
  {
   "cell_type": "code",
   "execution_count": 109,
   "metadata": {},
   "outputs": [
    {
     "name": "stderr",
     "output_type": "stream",
     "text": [
      "[Parallel(n_jobs=-1)]: Using backend ThreadingBackend with 8 concurrent workers.\n"
     ]
    },
    {
     "name": "stdout",
     "output_type": "stream",
     "text": [
      "building tree 1 of 100building tree 2 of 100building tree 3 of 100\n",
      "\n",
      "building tree 4 of 100\n",
      "building tree 5 of 100\n",
      "building tree 6 of 100\n",
      "building tree 7 of 100\n",
      "\n",
      "building tree 8 of 100\n",
      "building tree 9 of 100\n",
      "building tree 10 of 100\n",
      "building tree 11 of 100\n",
      "building tree 12 of 100\n",
      "building tree 13 of 100\n",
      "building tree 14 of 100\n",
      "building tree 15 of 100building tree 16 of 100\n",
      "\n",
      "building tree 17 of 100\n",
      "building tree 18 of 100\n",
      "building tree 19 of 100\n",
      "building tree 20 of 100\n",
      "building tree 21 of 100\n",
      "building tree 22 of 100\n",
      "building tree 23 of 100\n",
      "building tree 24 of 100\n",
      "building tree 25 of 100\n",
      "building tree 26 of 100\n",
      "building tree 27 of 100\n",
      "building tree 28 of 100\n",
      "building tree 29 of 100\n",
      "building tree 30 of 100\n",
      "building tree 31 of 100\n",
      "building tree 32 of 100\n"
     ]
    },
    {
     "name": "stderr",
     "output_type": "stream",
     "text": [
      "[Parallel(n_jobs=-1)]: Done  16 tasks      | elapsed:    0.3s\n"
     ]
    },
    {
     "name": "stdout",
     "output_type": "stream",
     "text": [
      "building tree 33 of 100\n",
      "building tree 34 of 100\n",
      "building tree 35 of 100\n",
      "building tree 36 of 100\n",
      "building tree 37 of 100\n",
      "building tree 38 of 100\n",
      "building tree 39 of 100\n",
      "building tree 40 of 100\n",
      "building tree 41 of 100\n",
      "building tree 42 of 100\n",
      "building tree 43 of 100\n",
      "building tree 44 of 100\n",
      "building tree 45 of 100\n",
      "building tree 46 of 100\n",
      "building tree 47 of 100\n",
      "building tree 48 of 100\n",
      "building tree 49 of 100\n",
      "building tree 50 of 100\n",
      "building tree 51 of 100\n",
      "building tree 52 of 100\n",
      "building tree 53 of 100\n",
      "building tree 54 of 100\n",
      "building tree 55 of 100\n",
      "building tree 56 of 100\n",
      "building tree 57 of 100\n",
      "building tree 58 of 100\n",
      "building tree 59 of 100\n",
      "building tree 60 of 100\n",
      "building tree 61 of 100\n",
      "building tree 62 of 100\n",
      "building tree 63 of 100\n",
      "building tree 64 of 100\n",
      "building tree 65 of 100\n",
      "building tree 66 of 100\n",
      "building tree 67 of 100\n",
      "building tree 68 of 100\n",
      "building tree 69 of 100building tree 70 of 100\n",
      "\n",
      "building tree 71 of 100\n",
      "building tree 72 of 100\n",
      "building tree 73 of 100\n",
      "building tree 74 of 100\n",
      "building tree 75 of 100\n",
      "building tree 76 of 100\n",
      "building tree 77 of 100\n",
      "building tree 78 of 100\n",
      "building tree 79 of 100\n",
      "building tree 80 of 100\n",
      "building tree 81 of 100\n",
      "building tree 82 of 100\n",
      "building tree 83 of 100\n",
      "building tree 84 of 100\n",
      "building tree 85 of 100\n",
      "building tree 86 of 100\n",
      "building tree 87 of 100\n",
      "building tree 88 of 100\n",
      "building tree 89 of 100building tree 90 of 100\n",
      "\n",
      "building tree 91 of 100\n",
      "building tree 92 of 100\n",
      "building tree 93 of 100\n",
      "building tree 94 of 100\n",
      "building tree 95 of 100\n",
      "building tree 96 of 100\n",
      "building tree 97 of 100building tree 98 of 100\n",
      "\n",
      "building tree 99 of 100building tree 100 of 100\n",
      "\n"
     ]
    },
    {
     "name": "stderr",
     "output_type": "stream",
     "text": [
      "[Parallel(n_jobs=-1)]: Done 100 out of 100 | elapsed:    2.1s finished\n"
     ]
    },
    {
     "data": {
      "text/plain": [
       "RandomForestRegressor(bootstrap=True, criterion='mse', max_depth=None,\n",
       "           max_features=1, max_leaf_nodes=None, min_impurity_decrease=0.0,\n",
       "           min_impurity_split=None, min_samples_leaf=1,\n",
       "           min_samples_split=2, min_weight_fraction_leaf=0.0,\n",
       "           n_estimators=100, n_jobs=-1, oob_score=False, random_state=None,\n",
       "           verbose=3, warm_start=False)"
      ]
     },
     "execution_count": 109,
     "metadata": {},
     "output_type": "execute_result"
    }
   ],
   "source": [
    "rf2.fit(x_trn, y_trn)"
   ]
  },
  {
   "cell_type": "code",
   "execution_count": 110,
   "metadata": {},
   "outputs": [
    {
     "name": "stderr",
     "output_type": "stream",
     "text": [
      "[Parallel(n_jobs=8)]: Using backend ThreadingBackend with 8 concurrent workers.\n",
      "[Parallel(n_jobs=8)]: Done  16 tasks      | elapsed:    0.0s\n",
      "[Parallel(n_jobs=8)]: Done 100 out of 100 | elapsed:    0.2s finished\n"
     ]
    }
   ],
   "source": [
    "p2 = rf2.predict(x_val)"
   ]
  },
  {
   "cell_type": "code",
   "execution_count": 111,
   "metadata": {},
   "outputs": [
    {
     "data": {
      "text/plain": [
       "0.9934215421160087"
      ]
     },
     "execution_count": 111,
     "metadata": {},
     "output_type": "execute_result"
    }
   ],
   "source": [
    "r2_score(y_val, p2)"
   ]
  },
  {
   "cell_type": "markdown",
   "metadata": {},
   "source": [
    "# Fewer Inputs:  900-point window (15 minutes)\n",
    "So we knew that the largest repetition was 30 minutes...but what if we didn't?\n",
    "\n",
    "What if we only used 15 minutes of inputs?"
   ]
  },
  {
   "cell_type": "code",
   "execution_count": 223,
   "metadata": {},
   "outputs": [
    {
     "name": "stdout",
     "output_type": "stream",
     "text": [
      "X trn shape: (59580, 900) \n",
      "Y trn shape: (59580,)\n"
     ]
    }
   ],
   "source": [
    "x_trn, y_trn, x_val, y_val = trn_val_data(sig, 900)"
   ]
  },
  {
   "cell_type": "code",
   "execution_count": 224,
   "metadata": {},
   "outputs": [],
   "source": [
    "rf3 = RandomForestRegressor(n_estimators=100, max_features=2, n_jobs=-1)\n",
    "rf3.fit(x_trn, y_trn)\n",
    "p3 = rf3.predict(x_val)"
   ]
  },
  {
   "cell_type": "code",
   "execution_count": 225,
   "metadata": {},
   "outputs": [
    {
     "data": {
      "text/plain": [
       "0.9938220246804234"
      ]
     },
     "execution_count": 225,
     "metadata": {},
     "output_type": "execute_result"
    }
   ],
   "source": [
    "r2_score(y_val, p3)"
   ]
  },
  {
   "cell_type": "markdown",
   "metadata": {},
   "source": [
    "# Even Fewer Inputs: 300-point window (5 minutes)\n",
    "Ok, wow... so 15 minutes still gets 99.91% r2 score.  Same basic score as using 30 minutes of input.\n",
    "\n",
    "How about if we use 5 minutes?"
   ]
  },
  {
   "cell_type": "code",
   "execution_count": 226,
   "metadata": {},
   "outputs": [
    {
     "name": "stdout",
     "output_type": "stream",
     "text": [
      "X trn shape: (60180, 300) \n",
      "Y trn shape: (60180,)\n"
     ]
    }
   ],
   "source": [
    "x_trn, y_trn, x_val, y_val = trn_val_data(sig, 300)"
   ]
  },
  {
   "cell_type": "code",
   "execution_count": 227,
   "metadata": {},
   "outputs": [],
   "source": [
    "rf4 = RandomForestRegressor(n_estimators=100, max_features=2, n_jobs=-1)\n",
    "rf4.fit(x_trn, y_trn)\n",
    "p4 = rf4.predict(x_val)"
   ]
  },
  {
   "cell_type": "code",
   "execution_count": 228,
   "metadata": {},
   "outputs": [
    {
     "data": {
      "text/plain": [
       "0.9932381603168574"
      ]
     },
     "execution_count": 228,
     "metadata": {},
     "output_type": "execute_result"
    }
   ],
   "source": [
    "r2_score(y_val, p4)"
   ]
  },
  {
   "cell_type": "markdown",
   "metadata": {},
   "source": [
    "Ok, so using just 5 minutes of data input, we can have 99.906%, where as it is\n",
    "99.914% with 30 minutes....\n",
    "\n",
    "How about 1 minute?"
   ]
  },
  {
   "cell_type": "markdown",
   "metadata": {},
   "source": [
    "# Very Few: 60-point window (1 minute)"
   ]
  },
  {
   "cell_type": "code",
   "execution_count": 229,
   "metadata": {},
   "outputs": [
    {
     "name": "stdout",
     "output_type": "stream",
     "text": [
      "X trn shape: (60420, 60) \n",
      "Y trn shape: (60420,)\n"
     ]
    }
   ],
   "source": [
    "x_trn, y_trn, x_val, y_val = trn_val_data(sig, 60)"
   ]
  },
  {
   "cell_type": "code",
   "execution_count": 230,
   "metadata": {},
   "outputs": [],
   "source": [
    "rf5 = RandomForestRegressor(n_estimators=100, max_features=2, n_jobs=-1)\n",
    "rf5.fit(x_trn, y_trn)\n",
    "p5 = rf5.predict(x_val)"
   ]
  },
  {
   "cell_type": "code",
   "execution_count": 231,
   "metadata": {},
   "outputs": [
    {
     "data": {
      "text/plain": [
       "0.9914152649572248"
      ]
     },
     "execution_count": 231,
     "metadata": {},
     "output_type": "execute_result"
    }
   ],
   "source": [
    "r2_score(y_val, p5)"
   ]
  },
  {
   "cell_type": "markdown",
   "metadata": {},
   "source": [
    "Ok, wow... So we still get 99.88% accuracy with just one minute of data."
   ]
  },
  {
   "cell_type": "code",
   "execution_count": 232,
   "metadata": {},
   "outputs": [
    {
     "name": "stdout",
     "output_type": "stream",
     "text": [
      "X trn shape: (60450, 30) \n",
      "Y trn shape: (60450,)\n"
     ]
    }
   ],
   "source": [
    "x_trn, y_trn, x_val, y_val = trn_val_data(sig, 30)"
   ]
  },
  {
   "cell_type": "code",
   "execution_count": 233,
   "metadata": {},
   "outputs": [],
   "source": [
    "rf30 = RandomForestRegressor(n_estimators=100, n_jobs=-1, max_features=2)\n",
    "rf30.fit(x_trn, y_trn)\n",
    "p30 = rf30.predict(x_val)"
   ]
  },
  {
   "cell_type": "code",
   "execution_count": 234,
   "metadata": {},
   "outputs": [
    {
     "data": {
      "text/plain": [
       "0.9911714359151447"
      ]
     },
     "execution_count": 234,
     "metadata": {},
     "output_type": "execute_result"
    }
   ],
   "source": [
    "r2_score(y_val, p30)"
   ]
  },
  {
   "cell_type": "markdown",
   "metadata": {},
   "source": [
    "# WTF?  Still good?  "
   ]
  },
  {
   "cell_type": "code",
   "execution_count": 235,
   "metadata": {},
   "outputs": [
    {
     "name": "stdout",
     "output_type": "stream",
     "text": [
      "X trn shape: (60470, 10) \n",
      "Y trn shape: (60470,)\n"
     ]
    }
   ],
   "source": [
    "x_trn, y_trn, x_val, y_val = trn_val_data(sig, 10)"
   ]
  },
  {
   "cell_type": "code",
   "execution_count": 236,
   "metadata": {},
   "outputs": [
    {
     "data": {
      "text/plain": [
       "0.9914969866733099"
      ]
     },
     "execution_count": 236,
     "metadata": {},
     "output_type": "execute_result"
    }
   ],
   "source": [
    "rf10 = RandomForestRegressor(n_estimators=100, max_features=2, n_jobs=-1)\n",
    "rf10.fit(x_trn, y_trn)\n",
    "p10 = rf10.predict(x_val)\n",
    "r2_score(y_val, p10)"
   ]
  },
  {
   "cell_type": "markdown",
   "metadata": {},
   "source": [
    "# Uhhhh"
   ]
  },
  {
   "cell_type": "code",
   "execution_count": 237,
   "metadata": {},
   "outputs": [
    {
     "name": "stdout",
     "output_type": "stream",
     "text": [
      "X trn shape: (60477, 3) \n",
      "Y trn shape: (60477,)\n"
     ]
    }
   ],
   "source": [
    "x_trn, y_trn, x_val, y_val = trn_val_data(sig, 3)"
   ]
  },
  {
   "cell_type": "code",
   "execution_count": 238,
   "metadata": {},
   "outputs": [
    {
     "data": {
      "text/plain": [
       "0.9907293357814343"
      ]
     },
     "execution_count": 238,
     "metadata": {},
     "output_type": "execute_result"
    }
   ],
   "source": [
    "rf3 = RandomForestRegressor(n_estimators=100, max_features=2, n_jobs=-1)\n",
    "rf3.fit(x_trn, y_trn)\n",
    "p3 = rf3.predict(x_val)\n",
    "r2_score(y_val, p3)"
   ]
  },
  {
   "cell_type": "markdown",
   "metadata": {},
   "source": [
    "# Uhhhh.  Uhhhhh.  2?"
   ]
  },
  {
   "cell_type": "code",
   "execution_count": 239,
   "metadata": {},
   "outputs": [
    {
     "name": "stdout",
     "output_type": "stream",
     "text": [
      "X trn shape: (60478, 2) \n",
      "Y trn shape: (60478,)\n"
     ]
    }
   ],
   "source": [
    "x_trn, y_trn, x_val, y_val = trn_val_data(sig, 2)"
   ]
  },
  {
   "cell_type": "code",
   "execution_count": 240,
   "metadata": {},
   "outputs": [
    {
     "data": {
      "text/plain": [
       "0.9896344075784369"
      ]
     },
     "execution_count": 240,
     "metadata": {},
     "output_type": "execute_result"
    }
   ],
   "source": [
    "rf2 = RandomForestRegressor(n_estimators=100, max_features=2, n_jobs=-1)\n",
    "rf2.fit(x_trn, y_trn)\n",
    "p2 = rf2.predict(x_val)\n",
    "r2_score(y_val, p2)"
   ]
  },
  {
   "cell_type": "markdown",
   "metadata": {},
   "source": [
    "### Some Thoughts\n",
    "\n",
    "These results seem too good to be true.  I still get 99% r2 score (or 98.96%, if you're an asshole).  Like,\n",
    "wow...  Wtf?  \n",
    "\n",
    "A few things contribute to this optimism.\n",
    "\n",
    "1. For one, the purely periodic signal I created is slowly varying relative to the 1 Hz sample rate.  If \n",
    "you recall, I have 3 sinusoids oscillating at 30s, 5m, and 20m, then a sawtooth at 30m.  Other than \n",
    "the 30s wave, 3-dp windows (x1,x2,y) are fairly constant.  My guess is that the trees just learn to output \n",
    "the same round about number as was entered... More specifically, I'd wager it basically takes an average\n",
    "of the last several data points...which the figures I first plotted at the way beginning show.  My\n",
    "guess is I can get the same roundabout accuracy by explicitly average the last several data points to\n",
    "make a prediction. \n",
    "I found a [blog](http://astrohackweek.org/blog/time-series-rf.html) that did a very similar analysis, \n",
    "but w/ light curve data from a star.  Same great results.  Looking at the data, seems like the\n",
    "optimism arises b/c of very similar reasoning.  \n",
    "\n",
    "\n",
    "2. Who needs to know what is going to happen a second from now anyway?  A more realistic\n",
    "prediction might be:  What will happen 10 minutes from now?\n",
    "This makes for some interesting (complicated) windowing/slicing.  Also, defining the target is\n",
    "not straightforward here either (which would decrease optimism): given we have 1 Hz data and 10\n",
    "minutes into the future is 1-2 orders of magnitude larger than this sampling rate, a question arises around\n",
    "the specificity of such a prediction: do we want to predict the value of\n",
    "a second that will be recorded *exactly* 10 minutes from now, or a less noisy 10-30 second avg 10mins \n",
    "from now...?\n",
    "\n",
    "\n",
    "3. Notice that in my quickness to check things out, I've created a purely periodic signal, \n",
    "such that the output range in val/test never exceeds the output range\n",
    "seen in training.  This gives a *VERY* optimistic outlook on how random forests can\n",
    "generally handle time series data.  We should be much more pessimistic: training on historical data will limit \n",
    "the RF to making predictions within the historical target range.  If we are looking at a business' \n",
    "customer growth over time, this won't work at all!  (For more info: https://medium.com/datadriveninvestor/why-wont-time-series-data-and-random-forests-work-very-well-together-3c9f7b271631)\n",
    "\n",
    "\n",
    "Below, I show how pessimistic we should be by addressing some of these points, e.g., by adding a linear trend\n",
    "to the purely periodic signal we've been using.  One might speculate there is a remedy -- likely in\n",
    "a preprocessing step.  For example, one might assume the growth is quasi-linear, and so fit\n",
    "a linear regression first and subtract it from the data, then use the residuals as inputs to \n",
    "the RF.  To avoid target leakage and/or overfitting to the training set here, one might use 50% of\n",
    "training to do the linear fit, the then other 50% of training (residuals) to do the RF fit.\n",
    "\n",
    "Another possibility to deal with trends: to predict x[t+1], do the following:\n",
    "* subtract x[t] from everything\n",
    "* use x[t-1] - x[t], x[t-1] - x[t], etc, to predict x[t+1] - x[t]\n",
    "* add x[t] back to the prediction\n"
   ]
  },
  {
   "cell_type": "markdown",
   "metadata": {},
   "source": [
    "# Predicting 10 Minutes From Now"
   ]
  },
  {
   "cell_type": "code",
   "execution_count": 189,
   "metadata": {},
   "outputs": [],
   "source": [
    "def trn_val_data(\n",
    "    signal, \n",
    "    win_size, \n",
    "    prediction_point = 1,\n",
    "    trn_sz=0.7,\n",
    "):\n",
    "\n",
    "    split_point = round(len(signal)*trn_sz)\n",
    "\n",
    "    sig_trn = signal[:split_point]\n",
    "    data_trn = make_views(sig_trn.reshape(-1,1) ,win_size + prediction_point, 1)\n",
    "    x_trn = data_trn[:, :win_size].squeeze()\n",
    "    y_trn = data_trn[:, win_size + prediction_point - 1].ravel()\n",
    "    \n",
    "    sig_val = signal[split_point:]\n",
    "    data_val = make_views(sig_val.reshape(-1,1), win_size + prediction_point, 1)\n",
    "    x_val = data_val[:, :win_size].squeeze()\n",
    "    y_val = data_val[:, win_size  + prediction_point - 1].ravel()\n",
    "\n",
    "    print('X trn shape:', x_trn.shape, '\\nY trn shape:', y_trn.shape)\n",
    "    \n",
    "    return x_trn, y_trn, x_val, y_val"
   ]
  },
  {
   "cell_type": "markdown",
   "metadata": {},
   "source": [
    "## Starting with 2-second window"
   ]
  },
  {
   "cell_type": "code",
   "execution_count": 241,
   "metadata": {},
   "outputs": [
    {
     "name": "stdout",
     "output_type": "stream",
     "text": [
      "X trn shape: (59879, 2) \n",
      "Y trn shape: (59879,)\n"
     ]
    }
   ],
   "source": [
    "x_trn, y_trn, x_val, y_val = trn_val_data(sig, win_size=2, prediction_point=60*10)"
   ]
  },
  {
   "cell_type": "code",
   "execution_count": 242,
   "metadata": {},
   "outputs": [
    {
     "data": {
      "text/plain": [
       "0.35234514136723116"
      ]
     },
     "execution_count": 242,
     "metadata": {},
     "output_type": "execute_result"
    }
   ],
   "source": [
    "rf = RandomForestRegressor(n_estimators=100, max_features=2, n_jobs=-1)\n",
    "rf.fit(x_trn, y_trn)\n",
    "p = rf.predict(x_val)\n",
    "r2_score(y_val, p)"
   ]
  },
  {
   "cell_type": "code",
   "execution_count": 192,
   "metadata": {},
   "outputs": [
    {
     "data": {
      "text/plain": [
       "[<matplotlib.lines.Line2D at 0x1c2e81b470>]"
      ]
     },
     "execution_count": 192,
     "metadata": {},
     "output_type": "execute_result"
    },
    {
     "name": "stderr",
     "output_type": "stream",
     "text": [
      "matplotlib.axes._base:DEBUG:update_title_pos\n",
      "matplotlib.axes._base:DEBUG:update_title_pos\n",
      "matplotlib.axes._base:DEBUG:update_title_pos\n",
      "matplotlib.axes._base:DEBUG:update_title_pos\n",
      "matplotlib.axes._base:DEBUG:update_title_pos\n"
     ]
    },
    {
     "data": {
      "image/png": "[encoded data removed]",
      "text/plain": [
       "<Figure size 432x288 with 1 Axes>"
      ]
     },
     "metadata": {
      "needs_background": "light"
     },
     "output_type": "display_data"
    }
   ],
   "source": [
    "plt.plot(t[1850:2050], y_val[50:250])\n",
    "plt.plot(t[1850:2050], p[50:250],'red')"
   ]
  },
  {
   "cell_type": "markdown",
   "metadata": {},
   "source": [
    "Great!  It was horrible as one would expect.\n",
    "\n",
    "Let's try larger windows.\n",
    "\n",
    "## 60-point window (1 minute)"
   ]
  },
  {
   "cell_type": "code",
   "execution_count": 193,
   "metadata": {},
   "outputs": [
    {
     "name": "stdout",
     "output_type": "stream",
     "text": [
      "X trn shape: (59821, 60) \n",
      "Y trn shape: (59821,)\n"
     ]
    }
   ],
   "source": [
    "x_trn, y_trn, x_val, y_val = trn_val_data(sig, win_size=60, prediction_point=60*10)"
   ]
  },
  {
   "cell_type": "code",
   "execution_count": 194,
   "metadata": {},
   "outputs": [
    {
     "data": {
      "text/plain": [
       "0.8498494677813561"
      ]
     },
     "execution_count": 194,
     "metadata": {},
     "output_type": "execute_result"
    }
   ],
   "source": [
    "rf = RandomForestRegressor(n_estimators=100, max_features=2, n_jobs=-1)\n",
    "rf.fit(x_trn, y_trn)\n",
    "p = rf.predict(x_val)\n",
    "r2_score(y_val, p)"
   ]
  },
  {
   "cell_type": "code",
   "execution_count": 244,
   "metadata": {},
   "outputs": [
    {
     "data": {
      "text/plain": [
       "[<matplotlib.lines.Line2D at 0x1c1e11bef0>]"
      ]
     },
     "execution_count": 244,
     "metadata": {},
     "output_type": "execute_result"
    },
    {
     "name": "stderr",
     "output_type": "stream",
     "text": [
      "matplotlib.axes._base:DEBUG:update_title_pos\n",
      "matplotlib.axes._base:DEBUG:update_title_pos\n",
      "matplotlib.axes._base:DEBUG:update_title_pos\n",
      "matplotlib.axes._base:DEBUG:update_title_pos\n",
      "matplotlib.axes._base:DEBUG:update_title_pos\n"
     ]
    },
    {
     "data": {
      "image/png": "[encoded data removed]",
      "text/plain": [
       "<Figure size 432x288 with 1 Axes>"
      ]
     },
     "metadata": {
      "needs_background": "light"
     },
     "output_type": "display_data"
    }
   ],
   "source": [
    "plt.plot(t[1850:2550], y_val[50:750])\n",
    "plt.plot(t[1850:2550], p[50:750],'red')"
   ]
  },
  {
   "cell_type": "markdown",
   "metadata": {},
   "source": [
    "# 300-point window (5 minutes)"
   ]
  },
  {
   "cell_type": "code",
   "execution_count": 245,
   "metadata": {},
   "outputs": [
    {
     "name": "stdout",
     "output_type": "stream",
     "text": [
      "X trn shape: (59581, 300) \n",
      "Y trn shape: (59581,)\n"
     ]
    }
   ],
   "source": [
    "x_trn, y_trn, x_val, y_val = trn_val_data(sig, win_size=300, prediction_point=60*10)"
   ]
  },
  {
   "cell_type": "code",
   "execution_count": 246,
   "metadata": {},
   "outputs": [
    {
     "data": {
      "text/plain": [
       "0.992228343839094"
      ]
     },
     "execution_count": 246,
     "metadata": {},
     "output_type": "execute_result"
    }
   ],
   "source": [
    "rf = RandomForestRegressor(n_estimators=100, max_features=2, n_jobs=-1)\n",
    "rf.fit(x_trn, y_trn)\n",
    "p = rf.predict(x_val)\n",
    "r2_score(y_val, p)"
   ]
  },
  {
   "cell_type": "code",
   "execution_count": 247,
   "metadata": {},
   "outputs": [
    {
     "data": {
      "text/plain": [
       "[<matplotlib.lines.Line2D at 0x1c23b0b6a0>]"
      ]
     },
     "execution_count": 247,
     "metadata": {},
     "output_type": "execute_result"
    },
    {
     "name": "stderr",
     "output_type": "stream",
     "text": [
      "matplotlib.axes._base:DEBUG:update_title_pos\n",
      "matplotlib.axes._base:DEBUG:update_title_pos\n",
      "matplotlib.axes._base:DEBUG:update_title_pos\n",
      "matplotlib.axes._base:DEBUG:update_title_pos\n",
      "matplotlib.axes._base:DEBUG:update_title_pos\n"
     ]
    },
    {
     "data": {
      "image/png": "[encoded data removed]",
      "text/plain": [
       "<Figure size 432x288 with 1 Axes>"
      ]
     },
     "metadata": {
      "needs_background": "light"
     },
     "output_type": "display_data"
    }
   ],
   "source": [
    "plt.plot(t[1850:2050], y_val[50:250])\n",
    "plt.plot(t[1850:2050], p[50:250],'red')"
   ]
  },
  {
   "cell_type": "markdown",
   "metadata": {},
   "source": [
    "# Predictions w/ a Linear Trend in the Time Series\n",
    "## 1. Naive Attempt"
   ]
  },
  {
   "cell_type": "code",
   "execution_count": 199,
   "metadata": {},
   "outputs": [],
   "source": [
    "sig2 = sig + t/500"
   ]
  },
  {
   "cell_type": "code",
   "execution_count": 200,
   "metadata": {},
   "outputs": [
    {
     "name": "stdout",
     "output_type": "stream",
     "text": [
      "X trn shape: (60180, 300) \n",
      "Y trn shape: (60180,)\n"
     ]
    }
   ],
   "source": [
    "x_trn, y_trn, x_val, y_val = trn_val_data(sig2, win_size=300, prediction_point=1)"
   ]
  },
  {
   "cell_type": "code",
   "execution_count": 201,
   "metadata": {},
   "outputs": [
    {
     "data": {
      "text/plain": [
       "[<matplotlib.lines.Line2D at 0x1c208e4940>]"
      ]
     },
     "execution_count": 201,
     "metadata": {},
     "output_type": "execute_result"
    },
    {
     "name": "stderr",
     "output_type": "stream",
     "text": [
      "matplotlib.axes._base:DEBUG:update_title_pos\n",
      "matplotlib.axes._base:DEBUG:update_title_pos\n",
      "matplotlib.axes._base:DEBUG:update_title_pos\n",
      "matplotlib.axes._base:DEBUG:update_title_pos\n",
      "matplotlib.axes._base:DEBUG:update_title_pos\n"
     ]
    },
    {
     "data": {
      "image/png": "[encoded data removed]",
      "text/plain": [
       "<Figure size 432x288 with 1 Axes>"
      ]
     },
     "metadata": {
      "needs_background": "light"
     },
     "output_type": "display_data"
    }
   ],
   "source": [
    "split_point = round(0.7*len(sig2))\n",
    "plt.plot(t[:split_point], sig2[:split_point])\n",
    "plt.plot(t[split_point:], sig2[split_point:], 'red')"
   ]
  },
  {
   "cell_type": "code",
   "execution_count": 202,
   "metadata": {},
   "outputs": [
    {
     "data": {
      "text/plain": [
       "-0.05910475676118554"
      ]
     },
     "execution_count": 202,
     "metadata": {},
     "output_type": "execute_result"
    }
   ],
   "source": [
    "rf = RandomForestRegressor(n_estimators=100, max_features=2, n_jobs=-1)\n",
    "rf.fit(x_trn, y_trn)\n",
    "p = rf.predict(x_val)\n",
    "r2_score(y_val, p)"
   ]
  },
  {
   "cell_type": "code",
   "execution_count": 222,
   "metadata": {},
   "outputs": [
    {
     "data": {
      "text/plain": [
       "[<matplotlib.lines.Line2D at 0x1c2847b400>]"
      ]
     },
     "execution_count": 222,
     "metadata": {},
     "output_type": "execute_result"
    },
    {
     "name": "stderr",
     "output_type": "stream",
     "text": [
      "matplotlib.axes._base:DEBUG:update_title_pos\n",
      "matplotlib.axes._base:DEBUG:update_title_pos\n",
      "matplotlib.axes._base:DEBUG:update_title_pos\n",
      "matplotlib.axes._base:DEBUG:update_title_pos\n",
      "matplotlib.axes._base:DEBUG:update_title_pos\n"
     ]
    },
    {
     "data": {
      "image/png": "[encoded data removed]",
      "text/plain": [
       "<Figure size 432x288 with 1 Axes>"
      ]
     },
     "metadata": {
      "needs_background": "light"
     },
     "output_type": "display_data"
    }
   ],
   "source": [
    "plt.plot(t[5000:25850], y_val[3200:24050])\n",
    "plt.plot(t[5000:25850], p[3200:24050],'red')"
   ]
  },
  {
   "cell_type": "markdown",
   "metadata": {},
   "source": [
    "## 2. Potentially Less Naive Attempt\n",
    "### 5-Minute Window"
   ]
  },
  {
   "cell_type": "code",
   "execution_count": 269,
   "metadata": {},
   "outputs": [],
   "source": [
    "x_trn, y_trn, x_val, y_val = trn_val_data(sig2, win_size=300, prediction_point=1)\n",
    "\n",
    "x_trn_mod = x_trn - x_trn[:,-1:]\n",
    "y_trn_mod = y_trn - x_trn[:,-1]\n",
    "\n",
    "x_val_mod = x_val - x_val[:,-1:]\n",
    "y_val_mod = y_val - x_val[:,-1]"
   ]
  },
  {
   "cell_type": "code",
   "execution_count": 270,
   "metadata": {},
   "outputs": [
    {
     "name": "stdout",
     "output_type": "stream",
     "text": [
      "Trn: -26.789156354650117 -1.352393925946294 56.27509991801519\n",
      "Val: -26.88226943496423 -1.4406167996634194 56.04825558066757\n"
     ]
    }
   ],
   "source": [
    "print('Trn:', np.min(x_trn_mod), np.median(x_trn_mod), np.max(x_trn_mod))\n",
    "print('Val:', np.min(x_val_mod), np.median(x_val_mod), np.max(x_val_mod))"
   ]
  },
  {
   "cell_type": "code",
   "execution_count": 271,
   "metadata": {},
   "outputs": [
    {
     "data": {
      "text/plain": [
       "0.4707841222481486"
      ]
     },
     "execution_count": 271,
     "metadata": {},
     "output_type": "execute_result"
    }
   ],
   "source": [
    "rf = RandomForestRegressor(n_estimators=100, max_features=2, n_jobs=-1)\n",
    "rf.fit(x_trn_mod, y_trn_mod)\n",
    "p = rf.predict(x_val_mod)\n",
    "r2_score(y_val_mod, p)"
   ]
  },
  {
   "cell_type": "markdown",
   "metadata": {},
   "source": [
    "### 10-Minute Window"
   ]
  },
  {
   "cell_type": "code",
   "execution_count": 272,
   "metadata": {},
   "outputs": [
    {
     "name": "stdout",
     "output_type": "stream",
     "text": [
      "X trn shape: (59880, 600) \n",
      "Y trn shape: (59880,)\n"
     ]
    }
   ],
   "source": [
    "x_trn, y_trn, x_val, y_val = trn_val_data(sig2, win_size=600, prediction_point=1)\n",
    "\n",
    "x_trn_mod = x_trn - x_trn[:,-1:]\n",
    "y_trn_mod = y_trn - x_trn[:,-1]\n",
    "\n",
    "x_val_mod = x_val - x_val[:,-1:]\n",
    "y_val_mod = y_val - x_val[:,-1]"
   ]
  },
  {
   "cell_type": "code",
   "execution_count": 273,
   "metadata": {},
   "outputs": [
    {
     "data": {
      "text/plain": [
       "0.2641952186791422"
      ]
     },
     "execution_count": 273,
     "metadata": {},
     "output_type": "execute_result"
    }
   ],
   "source": [
    "rf = RandomForestRegressor(n_estimators=100, max_features=2, n_jobs=-1)\n",
    "rf.fit(x_trn_mod, y_trn_mod)\n",
    "p = rf.predict(x_val_mod)\n",
    "r2_score(y_val_mod, p)"
   ]
  },
  {
   "cell_type": "markdown",
   "metadata": {},
   "source": [
    "### 1-Minute Window"
   ]
  },
  {
   "cell_type": "code",
   "execution_count": 274,
   "metadata": {},
   "outputs": [
    {
     "name": "stdout",
     "output_type": "stream",
     "text": [
      "X trn shape: (60420, 60) \n",
      "Y trn shape: (60420,)\n"
     ]
    }
   ],
   "source": [
    "x_trn, y_trn, x_val, y_val = trn_val_data(sig2, win_size=60, prediction_point=1)\n",
    "\n",
    "x_trn_mod = x_trn - x_trn[:,-1:]\n",
    "y_trn_mod = y_trn - x_trn[:,-1]\n",
    "\n",
    "x_val_mod = x_val - x_val[:,-1:]\n",
    "y_val_mod = y_val - x_val[:,-1]"
   ]
  },
  {
   "cell_type": "code",
   "execution_count": 275,
   "metadata": {},
   "outputs": [
    {
     "data": {
      "text/plain": [
       "0.20348418940961044"
      ]
     },
     "execution_count": 275,
     "metadata": {},
     "output_type": "execute_result"
    }
   ],
   "source": [
    "rf = RandomForestRegressor(n_estimators=100, max_features=2, n_jobs=-1)\n",
    "rf.fit(x_trn_mod, y_trn_mod)\n",
    "p = rf.predict(x_val_mod)\n",
    "r2_score(y_val_mod, p)"
   ]
  },
  {
   "cell_type": "markdown",
   "metadata": {},
   "source": [
    "Hmmmm... This differncing style doesn't seem to work... Maybe we should just difference the\n",
    "time series before windowing.  Make the prediction on a difference...."
   ]
  },
  {
   "cell_type": "code",
   "execution_count": null,
   "metadata": {},
   "outputs": [],
   "source": []
  }
 ],
 "metadata": {
  "kernelspec": {
   "display_name": "Python 3",
   "language": "python",
   "name": "python3"
  },
  "language_info": {
   "codemirror_mode": {
    "name": "ipython",
    "version": 3
   },
   "file_extension": ".py",
   "mimetype": "text/x-python",
   "name": "python",
   "nbconvert_exporter": "python",
   "pygments_lexer": "ipython3",
   "version": "3.7.2"
  }
 },
 "nbformat": 4,
 "nbformat_minor": 2
}
